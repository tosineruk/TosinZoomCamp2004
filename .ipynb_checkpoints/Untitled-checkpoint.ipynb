{
 "cells": [
  {
   "cell_type": "code",
   "execution_count": 1,
   "id": "973f5998-ba46-42e8-b155-93bcfc1bf563",
   "metadata": {},
   "outputs": [
    {
     "name": "stdout",
     "output_type": "stream",
     "text": [
      "Hello World in CodeSpaces\n"
     ]
    }
   ],
   "source": [
    "print ('Hello World in CodeSpaces')"
   ]
  },
  {
   "cell_type": "code",
   "execution_count": null,
   "id": "42e0e006-0b22-4fb5-9a6a-d13a88e85d04",
   "metadata": {},
   "outputs": [],
   "source": []
  }
 ],
 "metadata": {
  "kernelspec": {
   "display_name": "Python 3 (ipykernel)",
   "language": "python",
   "name": "python3"
  },
  "language_info": {
   "codemirror_mode": {
    "name": "ipython",
    "version": 3
   },
   "file_extension": ".py",
   "mimetype": "text/x-python",
   "name": "python",
   "nbconvert_exporter": "python",
   "pygments_lexer": "ipython3",
   "version": "3.10.13"
  }
 },
 "nbformat": 4,
 "nbformat_minor": 5
}
